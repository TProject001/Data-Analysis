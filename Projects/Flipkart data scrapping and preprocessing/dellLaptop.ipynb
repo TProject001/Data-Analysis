{
 "cells": [
  {
   "cell_type": "markdown",
   "metadata": {},
   "source": [
    "Program to scrap flipkart products"
   ]
  },
  {
   "cell_type": "code",
   "execution_count": 1,
   "metadata": {},
   "outputs": [],
   "source": [
    "#Import require libraries\n",
    "import requests\n",
    "from bs4 import BeautifulSoup as Soup"
   ]
  },
  {
   "cell_type": "code",
   "execution_count": 2,
   "metadata": {},
   "outputs": [
    {
     "name": "stdout",
     "output_type": "stream",
     "text": [
      "Hi\n",
      "dell+laptop\n"
     ]
    }
   ],
   "source": [
    "# Get user input\n",
    "print(\"Hi\")\n",
    "# In = input(\"Enter product : \")\n",
    "In = \"dell laptop\"\n",
    "str = In.replace(\" \",\"+\")\n",
    "print(str)"
   ]
  },
  {
   "cell_type": "code",
   "execution_count": 3,
   "metadata": {},
   "outputs": [
    {
     "name": "stdout",
     "output_type": "stream",
     "text": [
      "https://www.flipkart.com/search?q=dell+laptop\n"
     ]
    }
   ],
   "source": [
    "#Import Ecommerce webpage url\n",
    "#url = \"https://www.flipkart.com/search?q=dell+laptop&otracker=search&otracker1=search&marketplace=FLIPKART&as-show=off&as=off\"\n",
    "url = f'https://www.flipkart.com/search?q={str}'\n",
    "print(url)"
   ]
  },
  {
   "cell_type": "markdown",
   "metadata": {},
   "source": [
    "Parse the content into html"
   ]
  },
  {
   "cell_type": "code",
   "execution_count": 5,
   "metadata": {},
   "outputs": [
    {
     "name": "stdout",
     "output_type": "stream",
     "text": [
      "https://www.flipkart.com/search?q=dell+laptop\n"
     ]
    }
   ],
   "source": [
    "req = requests.get(url) \n",
    "content = Soup(req.content , \"html.parser\")\n",
    "print(url)"
   ]
  },
  {
   "cell_type": "code",
   "execution_count": null,
   "metadata": {},
   "outputs": [],
   "source": [
    "#print(content)"
   ]
  },
  {
   "cell_type": "markdown",
   "metadata": {},
   "source": [
    "Filter useful data"
   ]
  },
  {
   "cell_type": "code",
   "execution_count": null,
   "metadata": {},
   "outputs": [],
   "source": [
    "pages = content.find_all('a',{\"class\":'ge-49M'})\n",
    "#print(pages)\n",
    "i =1\n",
    "for page in pages:\n",
    "    if page.has_attr(\"href\"):\n",
    "        #print(url,\"\",page[\"href\"])\n",
    "        print(url+\"\"+page[\"href\"])\n",
    "        #print(page[\"href\"])\n",
    "    #url = page.find_all(\"href\")\n",
    "    #print(page.)\n",
    "# print(len(data))"
   ]
  },
  {
   "cell_type": "code",
   "execution_count": 10,
   "metadata": {},
   "outputs": [],
   "source": [
    "pages = content.find_all('a',{\"class\":'ge-49M'})\n",
    "\n",
    "i =1\n",
    "for page in pages:\n",
    "    if page.has_attr(\"href\"):  \n",
    "        url2 = url+\"\"+page[\"href\"]\n",
    "        req2 = requests.get(url2)\n",
    "        content2 = Soup(req2.content , \"html.parser\")\n",
    "        \n",
    "        data = content2.find_all('div',{'class':'_2kHMtA'})\n",
    "        counter = 0\n",
    "        for item in data:\n",
    "            #product name\n",
    "            name = item.find('div',attrs={'class':'_4rR01T'})\n",
    "            \n",
    "            #price \n",
    "            price = item.find('div',attrs={'class':'_30jeq3 _1_WHN1'})\n",
    "\n",
    "            # rating\n",
    "            rating = item.find('div',attrs={'class':'_3LWZlK'})\n",
    "            if rating is None:\n",
    "                pass\n",
    "            total_rating = item.find('span',attrs={'class':'_2_R_DZ'})\n",
    "            if total_rating is None:\n",
    "                #print(\"Null\")\n",
    "                pass\n",
    "            else:\n",
    "                #print(total_rating.text)\n",
    "                pass\n",
    "\n",
    "\n",
    "            counter += 1\n",
    "            i+=1"
   ]
  },
  {
   "cell_type": "code",
   "execution_count": null,
   "metadata": {},
   "outputs": [],
   "source": [
    "# Create a variables to store info\n",
    "product_names = []\n",
    "product_prices = []\n",
    "product_ratings = []\n",
    "\n",
    "product_page_links=[]\n",
    "link_starting = \"https://www.flipkart.com\""
   ]
  },
  {
   "cell_type": "markdown",
   "metadata": {},
   "source": [
    "Fetch the info and store it into variable"
   ]
  },
  {
   "cell_type": "code",
   "execution_count": null,
   "metadata": {},
   "outputs": [],
   "source": [
    "counter = 0\n",
    "for item in data:\n",
    "    #product name\n",
    "    name = item.find('div',attrs={'class':'_4rR01T'})\n",
    "\n",
    "    #price \n",
    "    price = item.find('div',attrs={'class':'_30jeq3 _1_WHN1'})\n",
    "\n",
    "    rating = item.find('div',attrs={'class':'_3LWZlK'})\n",
    "    if rating is None:\n",
    "        pass\n",
    "    total_rating = item.find('span',attrs={'class':'_2_R_DZ'})\n",
    "    if total_rating is None:\n",
    "        #print(\"Null\")\n",
    "        pass\n",
    "    else:\n",
    "        #print(total_rating.text)\n",
    "        pass\n",
    "\n",
    "\n",
    "    counter += 1"
   ]
  }
 ],
 "metadata": {
  "kernelspec": {
   "display_name": "Python 3.11.0 64-bit",
   "language": "python",
   "name": "python3"
  },
  "language_info": {
   "codemirror_mode": {
    "name": "ipython",
    "version": 3
   },
   "file_extension": ".py",
   "mimetype": "text/x-python",
   "name": "python",
   "nbconvert_exporter": "python",
   "pygments_lexer": "ipython3",
   "version": "3.11.0"
  },
  "orig_nbformat": 4,
  "vscode": {
   "interpreter": {
    "hash": "3dfa9fefbbf1e6e353baa25382c0e77a408a1e465113716ddbb7058f71aa7dd3"
   }
  }
 },
 "nbformat": 4,
 "nbformat_minor": 2
}
