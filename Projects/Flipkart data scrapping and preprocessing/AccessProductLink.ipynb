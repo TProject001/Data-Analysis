{
 "cells": [
  {
   "cell_type": "code",
   "execution_count": 4,
   "metadata": {},
   "outputs": [],
   "source": [
    "##Import Required Packages"
   ]
  },
  {
   "cell_type": "markdown",
   "metadata": {},
   "source": [
    "Import Required Packages"
   ]
  },
  {
   "cell_type": "code",
   "execution_count": 5,
   "metadata": {},
   "outputs": [],
   "source": [
    "import requests\n",
    "import pandas as pd\n",
    "from bs4 import BeautifulSoup as Soup"
   ]
  },
  {
   "cell_type": "markdown",
   "metadata": {},
   "source": [
    "import URL of product webpage"
   ]
  },
  {
   "cell_type": "code",
   "execution_count": null,
   "metadata": {},
   "outputs": [],
   "source": []
  },
  {
   "cell_type": "code",
   "execution_count": 6,
   "metadata": {},
   "outputs": [],
   "source": [
    "url = 'https://www.flipkart.com/computers/computer-components/monitors/pr?sid=6bo%2Cg0i%2C9no&fm[]=neo%2Fmerchandising&fm[]=neo%2Fmerchandising&iid[]=M_ce1a6f68-d7d2-4ae1-875c-0d0877d9a11f_2_372UD5BXDFYS_MC.ECL5SFI77NSY&iid[]=M_e0a57b0f-4022-4743-94f7-42fd5902012c_1.BK9ZVR1JH3RT&otracker1=hp_rich_navigation_PINNED_neo%2Fmerchandising_NA_NAV_EXPANDABLE_navigationCard_cc_3_L2_view-all&cid[]=ECL5SFI77NSY&cid[]=BK9ZVR1JH3RT&p[]=facets.fulfilled_by%255B%255D%3DFlipkart%2BAssured&p[]=facets.brand%255B%255D%3DDELL&ctx=eyJjYXJkQ29udGV4dCI6eyJhdHRyaWJ1dGVzIjp7InZhbHVlQ2FsbG91dCI6eyJtdWx0aVZhbHVlZEF0dHJpYnV0ZSI6eyJrZXkiOiJ2YWx1ZUNhbGxvdXQiLCJpbmZlcmVuY2VUeXBlIjoiVkFMVUVfQ0FMTE9VVCIsInZhbHVlcyI6WyJGcm9tIOKCuTgyNzkiXSwidmFsdWVUeXBlIjoiTVVMVElfVkFMVUVEIn19LCJ0aXRsZSI6eyJtdWx0aVZhbHVlZEF0dHJpYnV0ZSI6eyJrZXkiOiJ0aXRsZSIsImluZmVyZW5jZVR5cGUiOiJUSVRMRSIsInZhbHVlcyI6WyJNb25pdG9yIl0sInZhbHVlVHlwZSI6Ik1VTFRJX1ZBTFVFRCJ9fSwiaGVyb1BpZCI6eyJzaW5nbGVWYWx1ZUF0dHJpYnV0ZSI6eyJrZXkiOiJoZXJvUGlkIiwiaW5mZXJlbmNlVHlwZSI6IlBJRCIsInZhbHVlIjoiTU9OR1lERlFFMkpKSE5GMyIsInZhbHVlVHlwZSI6IlNJTkdMRV9WQUxVRUQifX19fX0%3D&ppt=None&ppn=None&ssid=vowj03un5s0000001676553897157&otracker=dynamic_omu_infinite_Best%2Bof%2BElectronics_1_1.dealCard.OMU_INFINITE_BK9ZVR1JH3RT'"
   ]
  },
  {
   "cell_type": "markdown",
   "metadata": {},
   "source": [
    "parse the content into html"
   ]
  },
  {
   "cell_type": "code",
   "execution_count": 7,
   "metadata": {},
   "outputs": [],
   "source": [
    "req = requests.get(url)"
   ]
  },
  {
   "cell_type": "code",
   "execution_count": 8,
   "metadata": {},
   "outputs": [],
   "source": [
    "content = Soup(req.content,\"html.parser\")"
   ]
  },
  {
   "cell_type": "code",
   "execution_count": 9,
   "metadata": {},
   "outputs": [],
   "source": [
    "#print(content)"
   ]
  },
  {
   "cell_type": "code",
   "execution_count": null,
   "metadata": {},
   "outputs": [],
   "source": []
  },
  {
   "cell_type": "markdown",
   "metadata": {},
   "source": [
    "Find Useful Data"
   ]
  },
  {
   "cell_type": "code",
   "execution_count": 13,
   "metadata": {},
   "outputs": [
    {
     "name": "stdout",
     "output_type": "stream",
     "text": [
      "{'a', 'ul', 'link', 'path', 'option', 'div', 'select', 'title', 'section', 'head', 'style', 'button', 'script', 'img', 'meta', 'h2', 'body', 'h3', 'br', 'ol', 'label', 'p', 'footer', 'html', 'span', 'nav', 'strong', 'li', 'h4', 'svg', 'input', 'h1', 'g', 'form'}\n"
     ]
    }
   ],
   "source": []
  },
  {
   "cell_type": "code",
   "execution_count": 2,
   "metadata": {},
   "outputs": [
    {
     "data": {
      "text/plain": [
       "'  Just try 😅  It\\'s work 😎\\n\\n#create a list to store all classes\\n#use set to store class name (it avoid dublicate name)\\nclass_list = set()\\n\\n#get all tags\\ntags = {tag.name for tag in content.find_all()}\\n#print(tags)\\n\\n#iterate all tags\\nfor tag in tags:\\n    \\n    #find all element for tag\\n    for i in content.find_all(tag):\\n        #print(i.name,end=\" \")\\n        #if tag has attricute of class\\n        if i.has_attr(\"class\"):\\n            #print(\"class \",i[\"class\"])\\n            \\n            if len(i[\"class\"] ) != 0:\\n\\n                class_list.add(\" \".join( i[\"class\"]) )\\n                \\n        #print(\"\")\\nprint(class_list)\\n'"
      ]
     },
     "execution_count": 2,
     "metadata": {},
     "output_type": "execute_result"
    }
   ],
   "source": [
    "\"\"\"  Just try 😅  It's work 😎\n",
    "\n",
    "#create a list to store all classes\n",
    "#use set to store class name (it avoid dublicate name)\n",
    "class_list = set()\n",
    "\n",
    "#get all tags\n",
    "tags = {tag.name for tag in content.find_all()}\n",
    "#print(tags)\n",
    "\n",
    "#iterate all tags\n",
    "for tag in tags:\n",
    "    \n",
    "    #find all element for tag\n",
    "    for i in content.find_all(tag):\n",
    "        #print(i.name,end=\" \")\n",
    "        #if tag has attricute of class\n",
    "        if i.has_attr(\"class\"):\n",
    "            #print(\"class \",i[\"class\"])\n",
    "            \n",
    "            if len(i[\"class\"] ) != 0:\n",
    "\n",
    "                class_list.add(\" \".join( i[\"class\"]) )\n",
    "                \n",
    "        #print(\"\")\n",
    "print(class_list)\n",
    "\"\"\""
   ]
  },
  {
   "cell_type": "code",
   "execution_count": 9,
   "metadata": {},
   "outputs": [],
   "source": [
    "data = content.find_all('div',{'class':'_2kHMtA'})"
   ]
  },
  {
   "cell_type": "code",
   "execution_count": 41,
   "metadata": {},
   "outputs": [],
   "source": [
    "#make a list to store product info\n",
    "product_page_links=[]\n",
    "product_names = []\n",
    "product_prices = []\n",
    "product_ratings = []\n",
    "\n",
    "link_starting = \"https://www.flipkart.com\""
   ]
  },
  {
   "cell_type": "code",
   "execution_count": 42,
   "metadata": {},
   "outputs": [
    {
     "name": "stdout",
     "output_type": "stream",
     "text": [
      "\n",
      "\n",
      "\n",
      "\n",
      "\n",
      "\n",
      "\n",
      "\n",
      "\n",
      "\n",
      "\n",
      "\n",
      "\n",
      "\n",
      "\n",
      "\n",
      "\n",
      "\n",
      "\n",
      "\n",
      "\n",
      "\n",
      "\n",
      "\n"
     ]
    }
   ],
   "source": [
    "counter = 0\n",
    "for items in data:\n",
    "    #product name\n",
    "    name = items.find('div',attrs={'class':'_4rR01T'})\n",
    "    #print(name.text)\n",
    "    product_names.append(name.text)\n",
    "    \n",
    "    #product price\n",
    "    price = items.find('div',attrs={'class':\"_30jeq3 _1_WHN1\"})\n",
    "    #print(price.text)\n",
    "    product_prices.append(price.text)\n",
    "\n",
    "    #product rating\n",
    "    rating = items.find('div',attrs={'class':'_3LWZlK'})\n",
    "    if rating is None :   # Handling null value\n",
    "        #print(\"Null\")\n",
    "        product_ratings.append(\"Null\")\n",
    "    else:\n",
    "        #print(rating.text)\n",
    "        product_ratings.append(rating.text)\n",
    "\n",
    "    #product page link\n",
    "    link = items.find('a')['href']\n",
    "    #print(link_starting+link)\n",
    "    product_page_links.append(link_starting+link)\n",
    "    \n",
    "    counter += 1\n",
    "    print()\n"
   ]
  },
  {
   "cell_type": "code",
   "execution_count": 43,
   "metadata": {},
   "outputs": [
    {
     "name": "stdout",
     "output_type": "stream",
     "text": [
      "24\n"
     ]
    }
   ],
   "source": [
    "print(counter)"
   ]
  },
  {
   "cell_type": "code",
   "execution_count": 44,
   "metadata": {},
   "outputs": [
    {
     "name": "stdout",
     "output_type": "stream",
     "text": [
      "['4.4', '4.4', '4.5', '4.3', '4.3', '4.3', 'Null', '4.3', '4.9', '4', 'Null', '4.8', '5', 'Null', '4.4', '4.8', '4.4', '4.4', '4.2', '4.6', '4.3', '3.9', '4.4', '4.4']\n"
     ]
    }
   ],
   "source": [
    "print(product_ratings)"
   ]
  },
  {
   "cell_type": "markdown",
   "metadata": {},
   "source": [
    "Collect all data into dictionary format"
   ]
  },
  {
   "cell_type": "code",
   "execution_count": 45,
   "metadata": {},
   "outputs": [],
   "source": [
    "All_data = {'product_name':product_names , \n",
    "            'product_price':product_prices , \n",
    "            'product_rating':product_ratings,\n",
    "            'productPage_link':product_page_links}"
   ]
  },
  {
   "cell_type": "code",
   "execution_count": 47,
   "metadata": {},
   "outputs": [
    {
     "name": "stdout",
     "output_type": "stream",
     "text": [
      "                                         product_name product_price  \\\n",
      "0   DELL S Series 27 inch Full HD IPS Panel Ultra ...       ₹15,249   \n",
      "1   DELL P-series 24 inch Full HD LED Backlit IPS ...       ₹14,377   \n",
      "2   DELL S Series 24 inch Full HD IPS Panel Monito...       ₹11,999   \n",
      "3   DELL S Series 23.8 inch Full HD IPS Panel with...       ₹13,800   \n",
      "4                  DELL 19.5 inch HD Monitor (D2020H)        ₹7,999   \n",
      "5   DELL 24 inch Full HD LED Backlit IPS Panel Mon...       ₹14,250   \n",
      "6   DELL E Series 22 inch Full HD VA Panel with He...       ₹11,199   \n",
      "7   DELL 18.5 inch HD LED Backlit TN Panel Monitor...        ₹7,699   \n",
      "8   DELL Gaming 27 inch Curved Full HD LED Backlit...       ₹26,599   \n",
      "9   DELL 24 inch Full HD LED Backlit IPS Panel wit...       ₹12,699   \n",
      "10  DELL E-Series 27 inch Full HD LED Backlit IPS ...       ₹14,999   \n",
      "11  DELL 27 inch Quad HD LED Backlit IPS Panel Mon...       ₹21,099   \n",
      "12  DELL Alienware 25 inch Full HD LED Backlit IPS...       ₹37,599   \n",
      "13  DELL AW-Series 27 inch WQHD LED Backlit IPS Pa...     ₹1,08,299   \n",
      "14  DELL E- SERIES 23.8 inch Full HD LED Backlit I...       ₹11,799   \n",
      "15  DELL S-Series 25 inch Full HD LED Backlit IPS ...       ₹22,500   \n",
      "16  DELL 22 inch Full HD LED Backlit VA Panel Moni...        ₹8,399   \n",
      "17  DELL P-series 27 inch Full HD LED Backlit IPS ...       ₹20,499   \n",
      "18  DELL 24 inch HD Monitor (E2422HS - Full HD (19...       ₹13,199   \n",
      "19  DELL P series 24 inch Full HD LED Backlit IPS ...       ₹18,500   \n",
      "20  DELL E-Series 22 inch Full HD LED Backlit TN P...       ₹11,599   \n",
      "21           DELL 21.5 inch Full HD Monitor (E2216HV)       ₹10,899   \n",
      "22             DELL 27 inch Full HD Monitor (E2720HS)       ₹15,499   \n",
      "23  DELL SE-Series 24 inch Full HD LED Backlit VA ...       ₹11,099   \n",
      "\n",
      "   product_rating                                   productPage_link  \n",
      "0             4.4  https://www.flipkart.com/dell-s-series-27-inch...  \n",
      "1             4.4  https://www.flipkart.com/dell-p-series-24-inch...  \n",
      "2             4.5  https://www.flipkart.com/dell-s-series-24-inch...  \n",
      "3             4.3  https://www.flipkart.com/dell-s-series-23-8-in...  \n",
      "4             4.3  https://www.flipkart.com/dell-19-5-inch-hd-mon...  \n",
      "5             4.3  https://www.flipkart.com/dell-24-inch-full-hd-...  \n",
      "6            Null  https://www.flipkart.com/dell-e-series-22-inch...  \n",
      "7             4.3  https://www.flipkart.com/dell-18-5-inch-hd-led...  \n",
      "8             4.9  https://www.flipkart.com/dell-gaming-27-inch-c...  \n",
      "9               4  https://www.flipkart.com/dell-24-inch-full-hd-...  \n",
      "10           Null  https://www.flipkart.com/dell-e-series-27-inch...  \n",
      "11            4.8  https://www.flipkart.com/dell-27-inch-quad-hd-...  \n",
      "12              5  https://www.flipkart.com/dell-alienware-25-inc...  \n",
      "13           Null  https://www.flipkart.com/dell-aw-series-27-inc...  \n",
      "14            4.4  https://www.flipkart.com/dell-e-series-23-8-in...  \n",
      "15            4.8  https://www.flipkart.com/dell-s-series-25-inch...  \n",
      "16            4.4  https://www.flipkart.com/dell-22-inch-full-hd-...  \n",
      "17            4.4  https://www.flipkart.com/dell-p-series-27-inch...  \n",
      "18            4.2  https://www.flipkart.com/dell-24-inch-hd-monit...  \n",
      "19            4.6  https://www.flipkart.com/dell-p-series-24-inch...  \n",
      "20            4.3  https://www.flipkart.com/dell-e-series-22-inch...  \n",
      "21            3.9  https://www.flipkart.com/dell-21-5-inch-full-h...  \n",
      "22            4.4  https://www.flipkart.com/dell-27-inch-full-hd-...  \n",
      "23            4.4  https://www.flipkart.com/dell-se-series-24-inc...  \n"
     ]
    }
   ],
   "source": [
    "#Convert all data into data frame\n",
    "dataframe = pd.DataFrame(All_data)\n",
    "print(dataframe)\n",
    "# print(len(product_names))\n",
    "# print(len(product_prices))\n",
    "# print(len(product_ratings))\n",
    "# print(len(product_page_links))"
   ]
  },
  {
   "cell_type": "markdown",
   "metadata": {},
   "source": [
    "Collect All data into CSV file"
   ]
  },
  {
   "cell_type": "code",
   "execution_count": 49,
   "metadata": {},
   "outputs": [],
   "source": [
    "dataframe.to_csv(\"flipkart_product_info.csv\")"
   ]
  }
 ],
 "metadata": {
  "kernelspec": {
   "display_name": "Python 3.11.0 64-bit",
   "language": "python",
   "name": "python3"
  },
  "language_info": {
   "codemirror_mode": {
    "name": "ipython",
    "version": 3
   },
   "file_extension": ".py",
   "mimetype": "text/x-python",
   "name": "python",
   "nbconvert_exporter": "python",
   "pygments_lexer": "ipython3",
   "version": "3.11.0"
  },
  "orig_nbformat": 4,
  "vscode": {
   "interpreter": {
    "hash": "3dfa9fefbbf1e6e353baa25382c0e77a408a1e465113716ddbb7058f71aa7dd3"
   }
  }
 },
 "nbformat": 4,
 "nbformat_minor": 2
}
