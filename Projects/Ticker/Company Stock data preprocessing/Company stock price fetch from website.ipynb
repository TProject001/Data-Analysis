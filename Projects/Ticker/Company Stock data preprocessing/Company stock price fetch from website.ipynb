{
 "cells": [
  {
   "cell_type": "markdown",
   "metadata": {},
   "source": [
    "Import Require Libraries"
   ]
  },
  {
   "cell_type": "code",
   "execution_count": 2,
   "metadata": {},
   "outputs": [],
   "source": [
    "import requests\n",
    "from bs4 import BeautifulSoup as Soup\n",
    "import pandas as pd"
   ]
  },
  {
   "cell_type": "markdown",
   "metadata": {},
   "source": [
    "Get the url"
   ]
  },
  {
   "cell_type": "code",
   "execution_count": 3,
   "metadata": {},
   "outputs": [
    {
     "name": "stdout",
     "output_type": "stream",
     "text": [
      "<Response [200]>\n"
     ]
    }
   ],
   "source": [
    "url = \"https://ticker.finology.in/\"\n",
    "req = requests.get(url)\n",
    "# check response for url\n",
    "#print(req) "
   ]
  },
  {
   "cell_type": "markdown",
   "metadata": {},
   "source": [
    "Get the content from website"
   ]
  },
  {
   "cell_type": "code",
   "execution_count": 4,
   "metadata": {},
   "outputs": [],
   "source": [
    "soup = Soup(req.content, \"html.parser\")\n",
    "Table = soup.find('table',{'class':'table table-sm table-hover screenertable'})"
   ]
  },
  {
   "cell_type": "code",
   "execution_count": 5,
   "metadata": {},
   "outputs": [
    {
     "name": "stdout",
     "output_type": "stream",
     "text": [
      "Best Stock Research and Market Analysis Platform - Ticker\n"
     ]
    }
   ],
   "source": [
    "# Fetch the title so that we can give it as a name to our csv file\n",
    "Title = soup.title.text\n",
    "escapes = ''.join([chr(char) for char in range(1,32)])\n",
    "translator = str.maketrans('','', escapes)\n",
    "Title = Title.translate(translator)\n",
    "print(Title)"
   ]
  },
  {
   "cell_type": "markdown",
   "metadata": {},
   "source": [
    "Get Table Head Column data"
   ]
  },
  {
   "cell_type": "code",
   "execution_count": 9,
   "metadata": {},
   "outputs": [],
   "source": [
    "TableHead = Table.find_all('thead')\n",
    "\n",
    "TableHeadData = TableHead[0].find_all('tr')\n",
    "\n",
    "# Header list store the Header data\n",
    "Header =[] \n",
    "\n",
    "for item in TableHeadData[0].find_all('th'):\n",
    "    if item.find('span'):\n",
    "        Span = item.find('span')\n",
    "        data = item.text.replace(Span.text , \" \"+Span.text)\n",
    "        #print(count,\" with span \",data)\n",
    "        Header.append(data)\n",
    "        \n",
    "    else:\n",
    "        #print(count,\" \",item.text)\n",
    "        Header.append(item.text)\n",
    "        \n",
    "#print(Header)"
   ]
  },
  {
   "cell_type": "markdown",
   "metadata": {},
   "source": [
    "Get Table Body data"
   ]
  },
  {
   "cell_type": "code",
   "execution_count": 11,
   "metadata": {},
   "outputs": [],
   "source": [
    "TableBody = Table.find_all('tbody')\n",
    "\n",
    "# Variables to store table body data\n",
    "company_name = []\n",
    "price = []\n",
    "dayHigh = []\n",
    "MoreDetails = []\n",
    "\n",
    "# count variable store count for Table rows\n",
    "count = 0\n",
    "for TableBodyRow in TableBody[0].find_all('tr'):\n",
    "    # Increase count after adding company stock information\n",
    "    count +=1\n",
    "\n",
    "    Price = TableBodyRow.find_all('td')\n",
    "\n",
    "    # print(count)\n",
    "    # Company name\n",
    "    # print(Price[0].text.strip())\n",
    "    company_name.append(Price[0].text.strip())\n",
    "\n",
    "    # price\n",
    "    # print(Price[1].text)\n",
    "    price.append(Price[1].text)\n",
    "    \n",
    "    # Day High price\n",
    "    # print(Price[2].text)\n",
    "    dayHigh.append(Price[2].text)\n",
    "    \n",
    "    # More info about Company stock \n",
    "    Extra_detail = TableBodyRow.find('a')['href']\n",
    "    # print(url+Extra_detail)\n",
    "    MoreDetails.append(url+Extra_detail)\n",
    "\n",
    "    "
   ]
  },
  {
   "cell_type": "code",
   "execution_count": 15,
   "metadata": {},
   "outputs": [
    {
     "name": "stdout",
     "output_type": "stream",
     "text": [
      "15\n",
      "15\n",
      "15\n",
      "15\n",
      "15\n"
     ]
    }
   ],
   "source": [
    "# check all list have equal element or not\n",
    "\n",
    "print(count)\n",
    "print(len(company_name))\n",
    "print(len(price))\n",
    "print(len(dayHigh))\n",
    "print(len(MoreDetails))"
   ]
  },
  {
   "cell_type": "code",
   "execution_count": 14,
   "metadata": {},
   "outputs": [
    {
     "name": "stdout",
     "output_type": "stream",
     "text": [
      "['265.45', '182.65', '268.65', '338.2', '1801.25', '169.7', '531.1', '37', '85.45', '105', '16', '141.3', '434.9', '22.85', '24.3']\n",
      "['Zen Technologies', 'Vaishali Pharma', 'Goyal Aluminiums', 'Sky Gold', 'Vesuvius India', 'Career Point', 'Krishana Phoschem', 'Fourth Dimension', 'OK Play India', 'Shrem', 'Vinny Overseas', 'Taylormade Renewable', 'Suryalata Spg Mills', 'Perfect Infra', 'Karnavati Finance']\n",
      "['274.6', '184.4', '268.7', '355', '1858', '179.9', '535.5', '37.05', '85.45', '105', '16', '141.4', '438', '22.85', '24.3']\n",
      "['https://ticker.finology.in/company/ZENTEC', 'https://ticker.finology.in/company/VAISHALI', 'https://ticker.finology.in/company/GOYALALUM', 'https://ticker.finology.in/company/SKYGOLD', 'https://ticker.finology.in/company/VESUVIUS', 'https://ticker.finology.in/company/CAREERP', 'https://ticker.finology.in/company/KRISHANA', 'https://ticker.finology.in/company/4THDIM', 'https://ticker.finology.in/company/SCRIP-126415', 'https://ticker.finology.in/company/SHREMINVIT', 'https://ticker.finology.in/company/VINNY', 'https://ticker.finology.in/company/SCRIP-288263', 'https://ticker.finology.in/company/SCRIP-114138', 'https://ticker.finology.in/company/PERFECT', 'https://ticker.finology.in/company/SCRIP-231387']\n"
     ]
    }
   ],
   "source": [
    "print(price)\n",
    "print(company_name)\n",
    "print(dayHigh)\n",
    "print(MoreDetails)"
   ]
  },
  {
   "cell_type": "markdown",
   "metadata": {},
   "source": [
    "Store Data Into CSV file using pandas library"
   ]
  },
  {
   "cell_type": "code",
   "execution_count": 17,
   "metadata": {},
   "outputs": [
    {
     "name": "stdout",
     "output_type": "stream",
     "text": [
      "                 Company Price Rs. Day High Rs.  \\\n",
      "0       Zen Technologies    265.45        274.6   \n",
      "1        Vaishali Pharma    182.65        184.4   \n",
      "2       Goyal Aluminiums    268.65        268.7   \n",
      "3               Sky Gold     338.2          355   \n",
      "4         Vesuvius India   1801.25         1858   \n",
      "5           Career Point     169.7        179.9   \n",
      "6      Krishana Phoschem     531.1        535.5   \n",
      "7       Fourth Dimension        37        37.05   \n",
      "8          OK Play India     85.45        85.45   \n",
      "9                  Shrem       105          105   \n",
      "10        Vinny Overseas        16           16   \n",
      "11  Taylormade Renewable     141.3        141.4   \n",
      "12   Suryalata Spg Mills     434.9          438   \n",
      "13         Perfect Infra     22.85        22.85   \n",
      "14     Karnavati Finance      24.3         24.3   \n",
      "\n",
      "                                         MoreDetail  \n",
      "0         https://ticker.finology.in/company/ZENTEC  \n",
      "1       https://ticker.finology.in/company/VAISHALI  \n",
      "2      https://ticker.finology.in/company/GOYALALUM  \n",
      "3        https://ticker.finology.in/company/SKYGOLD  \n",
      "4       https://ticker.finology.in/company/VESUVIUS  \n",
      "5        https://ticker.finology.in/company/CAREERP  \n",
      "6       https://ticker.finology.in/company/KRISHANA  \n",
      "7         https://ticker.finology.in/company/4THDIM  \n",
      "8   https://ticker.finology.in/company/SCRIP-126415  \n",
      "9     https://ticker.finology.in/company/SHREMINVIT  \n",
      "10         https://ticker.finology.in/company/VINNY  \n",
      "11  https://ticker.finology.in/company/SCRIP-288263  \n",
      "12  https://ticker.finology.in/company/SCRIP-114138  \n",
      "13       https://ticker.finology.in/company/PERFECT  \n",
      "14  https://ticker.finology.in/company/SCRIP-231387  \n"
     ]
    }
   ],
   "source": [
    "# Collect all info in dictionary format\n",
    "All_Company_Stock = {Header[0]:company_name,Header[1]:price,Header[2]:dayHigh,'MoreDetail':MoreDetails}\n",
    "\n",
    "# Convert all data into data frame\n",
    "Whole_data = pd.DataFrame(All_Company_Stock)\n",
    "print(Whole_data)"
   ]
  },
  {
   "cell_type": "code",
   "execution_count": 19,
   "metadata": {},
   "outputs": [
    {
     "name": "stdout",
     "output_type": "stream",
     "text": [
      "Best Stock Research and Market Analysis Platform - Ticker.csv\n"
     ]
    }
   ],
   "source": [
    "#Whole_data.to_csv(Title,'.csv')\n",
    "FileName = Title+\".csv\"\n",
    "print(FileName)\n",
    "Whole_data.to_csv(FileName)"
   ]
  }
 ],
 "metadata": {
  "kernelspec": {
   "display_name": "Python 3.11.0 64-bit",
   "language": "python",
   "name": "python3"
  },
  "language_info": {
   "codemirror_mode": {
    "name": "ipython",
    "version": 3
   },
   "file_extension": ".py",
   "mimetype": "text/x-python",
   "name": "python",
   "nbconvert_exporter": "python",
   "pygments_lexer": "ipython3",
   "version": "3.11.0"
  },
  "orig_nbformat": 4,
  "vscode": {
   "interpreter": {
    "hash": "3dfa9fefbbf1e6e353baa25382c0e77a408a1e465113716ddbb7058f71aa7dd3"
   }
  }
 },
 "nbformat": 4,
 "nbformat_minor": 2
}
