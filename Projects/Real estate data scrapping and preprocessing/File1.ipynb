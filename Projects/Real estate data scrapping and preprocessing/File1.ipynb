{
 "cells": [
  {
   "cell_type": "markdown",
   "metadata": {},
   "source": [
    "Import Require Libraries"
   ]
  },
  {
   "cell_type": "code",
   "execution_count": 2,
   "metadata": {},
   "outputs": [],
   "source": [
    "import requests\n",
    "from bs4 import BeautifulSoup as Soup\n",
    "import pandas as pd"
   ]
  },
  {
   "cell_type": "markdown",
   "metadata": {},
   "source": [
    "Get the url"
   ]
  },
  {
   "cell_type": "code",
   "execution_count": 3,
   "metadata": {},
   "outputs": [
    {
     "name": "stdout",
     "output_type": "stream",
     "text": [
      "<Response [200]>\n"
     ]
    }
   ],
   "source": [
    "url = \"https://ticker.finology.in/\"\n",
    "req = requests.get(url)\n",
    "print(req)"
   ]
  },
  {
   "cell_type": "markdown",
   "metadata": {},
   "source": [
    "Note\n",
    "=> HTTP 200 OK response indicate that the request has succeeded\n",
    "=> GET:The resources has been fetched and is transmitted in the message body"
   ]
  },
  {
   "cell_type": "markdown",
   "metadata": {},
   "source": [
    "Get the content from website"
   ]
  },
  {
   "cell_type": "code",
   "execution_count": 4,
   "metadata": {},
   "outputs": [],
   "source": [
    "soup = Soup(req.content, \"html.parser\")\n",
    "Table = soup.find('table',{'class':'table table-sm table-hover screenertable'})"
   ]
  },
  {
   "cell_type": "code",
   "execution_count": 15,
   "metadata": {},
   "outputs": [
    {
     "name": "stdout",
     "output_type": "stream",
     "text": [
      "\n",
      "\tBest Stock Research and Market Analysis Platform - Ticker\n",
      "\n"
     ]
    }
   ],
   "source": [
    "Title = soup.title.text\n",
    "print(Title)"
   ]
  },
  {
   "cell_type": "markdown",
   "metadata": {},
   "source": [
    "Get Table Head Column data"
   ]
  },
  {
   "cell_type": "code",
   "execution_count": 5,
   "metadata": {},
   "outputs": [
    {
     "name": "stdout",
     "output_type": "stream",
     "text": [
      "1   Company\n",
      "2  with span  Price Rs.\n",
      "3  with span  Day High Rs.\n"
     ]
    }
   ],
   "source": [
    "#print(type(Table))\n",
    "#print(Table)\n",
    "TableHead = Table.find_all('thead')\n",
    "# print(type(TableHead)) \n",
    "# Note \n",
    "# TableHead type is bs4.element.ResultSet\n",
    "# ResultSet does not have find_all method\n",
    "\"\"\" Stack OverFlow Code\n",
    ">>> type(table)\n",
    "<class 'bs4.element.ResultSet'>\n",
    ">>> type(table[0])\n",
    "<class 'bs4.element.Tag'>\n",
    ">>> len(table[0].find_all('tr'))\n",
    "6\n",
    "\"\"\"\n",
    "TableHeadData = TableHead[0].find_all('tr')\n",
    "#print(TableHeadData)\n",
    "\n",
    "# Header list store the Header data\n",
    "Header =[] \n",
    "count = 1\n",
    "for item in TableHeadData[0].find_all('th'):\n",
    "    if item.find('span'):\n",
    "        Span = item.find('span')\n",
    "        #print(\" Span \",Span.text)\n",
    "        data = item.text.replace(Span.text , \" \"+Span.text)\n",
    "        print(count,\" with span \",data)\n",
    "        Header.append(data)\n",
    "        count +=1\n",
    "    else:\n",
    "        print(count,\" \",item.text)\n",
    "        Header.append(item.text)\n",
    "        count +=1"
   ]
  },
  {
   "cell_type": "code",
   "execution_count": 6,
   "metadata": {},
   "outputs": [
    {
     "name": "stdout",
     "output_type": "stream",
     "text": [
      "['Company', 'Price Rs.', 'Day High Rs.']\n"
     ]
    }
   ],
   "source": [
    "print(Header)"
   ]
  },
  {
   "cell_type": "markdown",
   "metadata": {},
   "source": [
    "Get Table Body data"
   ]
  },
  {
   "cell_type": "code",
   "execution_count": 8,
   "metadata": {},
   "outputs": [
    {
     "name": "stdout",
     "output_type": "stream",
     "text": [
      "1\n",
      "Zen Technologies\n",
      "265.45\n",
      "274.6\n",
      "https://ticker.finology.in/company/ZENTEC\n",
      "2\n",
      "Vaishali Pharma\n",
      "182.65\n",
      "184.4\n",
      "https://ticker.finology.in/company/VAISHALI\n",
      "3\n",
      "Goyal Aluminiums\n",
      "268.65\n",
      "268.7\n",
      "https://ticker.finology.in/company/GOYALALUM\n",
      "4\n",
      "Sky Gold\n",
      "338.2\n",
      "355\n",
      "https://ticker.finology.in/company/SKYGOLD\n",
      "5\n",
      "Vesuvius India\n",
      "1801.25\n",
      "1858\n",
      "https://ticker.finology.in/company/VESUVIUS\n",
      "6\n",
      "Career Point\n",
      "169.7\n",
      "179.9\n",
      "https://ticker.finology.in/company/CAREERP\n",
      "7\n",
      "Krishana Phoschem\n",
      "531.1\n",
      "535.5\n",
      "https://ticker.finology.in/company/KRISHANA\n",
      "8\n",
      "Fourth Dimension\n",
      "37\n",
      "37.05\n",
      "https://ticker.finology.in/company/4THDIM\n",
      "9\n",
      "OK Play India\n",
      "85.45\n",
      "85.45\n",
      "https://ticker.finology.in/company/SCRIP-126415\n",
      "10\n",
      "Shrem\n",
      "105\n",
      "105\n",
      "https://ticker.finology.in/company/SHREMINVIT\n",
      "11\n",
      "Vinny Overseas\n",
      "16\n",
      "16\n",
      "https://ticker.finology.in/company/VINNY\n",
      "12\n",
      "Taylormade Renewable\n",
      "141.3\n",
      "141.4\n",
      "https://ticker.finology.in/company/SCRIP-288263\n",
      "13\n",
      "Suryalata Spg Mills\n",
      "434.9\n",
      "438\n",
      "https://ticker.finology.in/company/SCRIP-114138\n",
      "14\n",
      "Perfect Infra\n",
      "22.85\n",
      "22.85\n",
      "https://ticker.finology.in/company/PERFECT\n",
      "15\n",
      "Karnavati Finance\n",
      "24.3\n",
      "24.3\n",
      "https://ticker.finology.in/company/SCRIP-231387\n"
     ]
    }
   ],
   "source": [
    "TableBody = Table.find_all('tbody')\n",
    "# print(TableBody)\n",
    "# print(type(TableBody))\n",
    "\n",
    "# Variables to store table body data\n",
    "company_name = []\n",
    "price = []\n",
    "dayHigh = []\n",
    "MoreDetails = []\n",
    "count =1\n",
    "for TableBodyRow in TableBody[0].find_all('tr'):\n",
    "    # print(count, '', TableBodyRow)\n",
    "    Price = TableBodyRow.find_all('td')\n",
    "\n",
    "    print(count)\n",
    "    # Company name\n",
    "    print(Price[0].text.strip())\n",
    "    company_name.append(Price[0].text.strip())\n",
    "    # price\n",
    "    print(Price[1].text)\n",
    "    price.append(Price[1].text)\n",
    "    # Day High price\n",
    "    print(Price[2].text)\n",
    "    dayHigh.append(Price[2].text)\n",
    "    # More info about Company stock \n",
    "    Extra_detail = TableBodyRow.find('a')['href']\n",
    "    print(url+Extra_detail)\n",
    "    MoreDetails.append(url+Extra_detail)\n",
    "\n",
    "    # Increase count after adding company stock information\n",
    "    count +=1"
   ]
  },
  {
   "cell_type": "code",
   "execution_count": 9,
   "metadata": {},
   "outputs": [
    {
     "name": "stdout",
     "output_type": "stream",
     "text": [
      "16\n",
      "15\n",
      "15\n",
      "15\n",
      "15\n"
     ]
    }
   ],
   "source": [
    "print(count)\n",
    "print(len(company_name))\n",
    "print(len(price))\n",
    "print(len(dayHigh))\n",
    "print(len(MoreDetails))"
   ]
  },
  {
   "cell_type": "code",
   "execution_count": null,
   "metadata": {},
   "outputs": [],
   "source": [
    "print(price)\n",
    "print(company_name)\n",
    "print(dayHigh)\n",
    "print(MoreDetails)"
   ]
  },
  {
   "cell_type": "code",
   "execution_count": 11,
   "metadata": {},
   "outputs": [
    {
     "name": "stdout",
     "output_type": "stream",
     "text": [
      "['Company', 'Price Rs.', 'Day High Rs.']\n"
     ]
    }
   ],
   "source": [
    "print(Header)"
   ]
  },
  {
   "cell_type": "markdown",
   "metadata": {},
   "source": [
    "Store Data Into CSV file using pandas library"
   ]
  },
  {
   "cell_type": "code",
   "execution_count": 12,
   "metadata": {},
   "outputs": [
    {
     "name": "stdout",
     "output_type": "stream",
     "text": [
      "                 Company Price Rs. Day High Rs.  \\\n",
      "0       Zen Technologies    265.45        274.6   \n",
      "1        Vaishali Pharma    182.65        184.4   \n",
      "2       Goyal Aluminiums    268.65        268.7   \n",
      "3               Sky Gold     338.2          355   \n",
      "4         Vesuvius India   1801.25         1858   \n",
      "5           Career Point     169.7        179.9   \n",
      "6      Krishana Phoschem     531.1        535.5   \n",
      "7       Fourth Dimension        37        37.05   \n",
      "8          OK Play India     85.45        85.45   \n",
      "9                  Shrem       105          105   \n",
      "10        Vinny Overseas        16           16   \n",
      "11  Taylormade Renewable     141.3        141.4   \n",
      "12   Suryalata Spg Mills     434.9          438   \n",
      "13         Perfect Infra     22.85        22.85   \n",
      "14     Karnavati Finance      24.3         24.3   \n",
      "\n",
      "                                         MoreDetail  \n",
      "0         https://ticker.finology.in/company/ZENTEC  \n",
      "1       https://ticker.finology.in/company/VAISHALI  \n",
      "2      https://ticker.finology.in/company/GOYALALUM  \n",
      "3        https://ticker.finology.in/company/SKYGOLD  \n",
      "4       https://ticker.finology.in/company/VESUVIUS  \n",
      "5        https://ticker.finology.in/company/CAREERP  \n",
      "6       https://ticker.finology.in/company/KRISHANA  \n",
      "7         https://ticker.finology.in/company/4THDIM  \n",
      "8   https://ticker.finology.in/company/SCRIP-126415  \n",
      "9     https://ticker.finology.in/company/SHREMINVIT  \n",
      "10         https://ticker.finology.in/company/VINNY  \n",
      "11  https://ticker.finology.in/company/SCRIP-288263  \n",
      "12  https://ticker.finology.in/company/SCRIP-114138  \n",
      "13       https://ticker.finology.in/company/PERFECT  \n",
      "14  https://ticker.finology.in/company/SCRIP-231387  \n"
     ]
    }
   ],
   "source": [
    "# Collect all info in dictionary format\n",
    "All_Company_Stock = {Header[0]:company_name,Header[1]:price,Header[2]:dayHigh,'MoreDetail':MoreDetails}\n",
    "\n",
    "# Convert all data into data frame\n",
    "Whole_data = pd.DataFrame(All_Company_Stock)\n",
    "print(Whole_data)"
   ]
  },
  {
   "cell_type": "code",
   "execution_count": 25,
   "metadata": {},
   "outputs": [
    {
     "name": "stdout",
     "output_type": "stream",
     "text": [
      "Best Stock Research and Market Analysis Platform - Ticker.csv\n"
     ]
    }
   ],
   "source": [
    "#Whole_data.to_csv(Title,'.csv')\n",
    "FileName = Title+\".csv\".strip()\n",
    "escapes = ''.join([chr(char) for char in range(1,32)])\n",
    "translator = str.maketrans('','', escapes)\n",
    "FileName = FileName.translate(translator)\n",
    "print(FileName)\n",
    "Whole_data.to_csv(FileName)"
   ]
  },
  {
   "cell_type": "markdown",
   "metadata": {},
   "source": [
    "Code to remove escape character from string"
   ]
  },
  {
   "cell_type": "code",
   "execution_count": 24,
   "metadata": {},
   "outputs": [
    {
     "name": "stdout",
     "output_type": "stream",
     "text": [
      "Best Stock Research and Market Analysis Platform - Ticker.csv\n"
     ]
    }
   ],
   "source": [
    "FileName = Title+\".csv\".strip()\n",
    "escapes = ''.join([chr(char) for char in range(1,32)])\n",
    "translator = str.maketrans('','', escapes)\n",
    "FileName = FileName.translate(translator)\n",
    "print(FileName)"
   ]
  }
 ],
 "metadata": {
  "kernelspec": {
   "display_name": "Python 3.11.0 64-bit",
   "language": "python",
   "name": "python3"
  },
  "language_info": {
   "codemirror_mode": {
    "name": "ipython",
    "version": 3
   },
   "file_extension": ".py",
   "mimetype": "text/x-python",
   "name": "python",
   "nbconvert_exporter": "python",
   "pygments_lexer": "ipython3",
   "version": "3.11.0"
  },
  "orig_nbformat": 4,
  "vscode": {
   "interpreter": {
    "hash": "3dfa9fefbbf1e6e353baa25382c0e77a408a1e465113716ddbb7058f71aa7dd3"
   }
  }
 },
 "nbformat": 4,
 "nbformat_minor": 2
}
